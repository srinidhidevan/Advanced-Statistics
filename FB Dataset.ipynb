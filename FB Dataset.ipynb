{
 "cells": [
  {
   "cell_type": "code",
   "execution_count": 1,
   "metadata": {},
   "outputs": [],
   "source": [
    "import pandas as pd\n",
    "import numpy as np\n",
    "import matplotlib.pyplot as plt\n",
    "import seaborn as sns\n",
    "%matplotlib inline"
   ]
  },
  {
   "cell_type": "code",
   "execution_count": 2,
   "metadata": {},
   "outputs": [],
   "source": [
    "data=pd.read_csv('FB-1.csv')"
   ]
  },
  {
   "cell_type": "code",
   "execution_count": 3,
   "metadata": {},
   "outputs": [
    {
     "data": {
      "text/html": [
       "<div>\n",
       "<style scoped>\n",
       "    .dataframe tbody tr th:only-of-type {\n",
       "        vertical-align: middle;\n",
       "    }\n",
       "\n",
       "    .dataframe tbody tr th {\n",
       "        vertical-align: top;\n",
       "    }\n",
       "\n",
       "    .dataframe thead th {\n",
       "        text-align: right;\n",
       "    }\n",
       "</style>\n",
       "<table border=\"1\" class=\"dataframe\">\n",
       "  <thead>\n",
       "    <tr style=\"text-align: right;\">\n",
       "      <th></th>\n",
       "      <th>status_id</th>\n",
       "      <th>num_reactions</th>\n",
       "      <th>num_comments</th>\n",
       "      <th>num_shares</th>\n",
       "      <th>num_likes</th>\n",
       "      <th>num_loves</th>\n",
       "      <th>num_wows</th>\n",
       "      <th>num_hahas</th>\n",
       "      <th>num_sads</th>\n",
       "      <th>num_angrys</th>\n",
       "      <th>status_link</th>\n",
       "      <th>status_photo</th>\n",
       "      <th>status_status</th>\n",
       "    </tr>\n",
       "  </thead>\n",
       "  <tbody>\n",
       "    <tr>\n",
       "      <th>0</th>\n",
       "      <td>246675545449582_1649696485147474</td>\n",
       "      <td>529</td>\n",
       "      <td>512</td>\n",
       "      <td>262</td>\n",
       "      <td>432</td>\n",
       "      <td>92</td>\n",
       "      <td>3</td>\n",
       "      <td>1</td>\n",
       "      <td>1</td>\n",
       "      <td>0</td>\n",
       "      <td>0</td>\n",
       "      <td>0</td>\n",
       "      <td>0</td>\n",
       "    </tr>\n",
       "    <tr>\n",
       "      <th>1</th>\n",
       "      <td>246675545449582_1649426988507757</td>\n",
       "      <td>150</td>\n",
       "      <td>0</td>\n",
       "      <td>0</td>\n",
       "      <td>150</td>\n",
       "      <td>0</td>\n",
       "      <td>0</td>\n",
       "      <td>0</td>\n",
       "      <td>0</td>\n",
       "      <td>0</td>\n",
       "      <td>0</td>\n",
       "      <td>1</td>\n",
       "      <td>0</td>\n",
       "    </tr>\n",
       "    <tr>\n",
       "      <th>2</th>\n",
       "      <td>246675545449582_1648730588577397</td>\n",
       "      <td>227</td>\n",
       "      <td>236</td>\n",
       "      <td>57</td>\n",
       "      <td>204</td>\n",
       "      <td>21</td>\n",
       "      <td>1</td>\n",
       "      <td>1</td>\n",
       "      <td>0</td>\n",
       "      <td>0</td>\n",
       "      <td>0</td>\n",
       "      <td>0</td>\n",
       "      <td>0</td>\n",
       "    </tr>\n",
       "    <tr>\n",
       "      <th>3</th>\n",
       "      <td>246675545449582_1648576705259452</td>\n",
       "      <td>111</td>\n",
       "      <td>0</td>\n",
       "      <td>0</td>\n",
       "      <td>111</td>\n",
       "      <td>0</td>\n",
       "      <td>0</td>\n",
       "      <td>0</td>\n",
       "      <td>0</td>\n",
       "      <td>0</td>\n",
       "      <td>0</td>\n",
       "      <td>1</td>\n",
       "      <td>0</td>\n",
       "    </tr>\n",
       "    <tr>\n",
       "      <th>4</th>\n",
       "      <td>246675545449582_1645700502213739</td>\n",
       "      <td>213</td>\n",
       "      <td>0</td>\n",
       "      <td>0</td>\n",
       "      <td>204</td>\n",
       "      <td>9</td>\n",
       "      <td>0</td>\n",
       "      <td>0</td>\n",
       "      <td>0</td>\n",
       "      <td>0</td>\n",
       "      <td>0</td>\n",
       "      <td>1</td>\n",
       "      <td>0</td>\n",
       "    </tr>\n",
       "  </tbody>\n",
       "</table>\n",
       "</div>"
      ],
      "text/plain": [
       "                          status_id  num_reactions  num_comments  num_shares  \\\n",
       "0  246675545449582_1649696485147474            529           512         262   \n",
       "1  246675545449582_1649426988507757            150             0           0   \n",
       "2  246675545449582_1648730588577397            227           236          57   \n",
       "3  246675545449582_1648576705259452            111             0           0   \n",
       "4  246675545449582_1645700502213739            213             0           0   \n",
       "\n",
       "   num_likes  num_loves  num_wows  num_hahas  num_sads  num_angrys  \\\n",
       "0        432         92         3          1         1           0   \n",
       "1        150          0         0          0         0           0   \n",
       "2        204         21         1          1         0           0   \n",
       "3        111          0         0          0         0           0   \n",
       "4        204          9         0          0         0           0   \n",
       "\n",
       "   status_link  status_photo  status_status  \n",
       "0            0             0              0  \n",
       "1            0             1              0  \n",
       "2            0             0              0  \n",
       "3            0             1              0  \n",
       "4            0             1              0  "
      ]
     },
     "execution_count": 3,
     "metadata": {},
     "output_type": "execute_result"
    }
   ],
   "source": [
    "data.head()"
   ]
  },
  {
   "cell_type": "code",
   "execution_count": 4,
   "metadata": {},
   "outputs": [
    {
     "data": {
      "text/html": [
       "<div>\n",
       "<style scoped>\n",
       "    .dataframe tbody tr th:only-of-type {\n",
       "        vertical-align: middle;\n",
       "    }\n",
       "\n",
       "    .dataframe tbody tr th {\n",
       "        vertical-align: top;\n",
       "    }\n",
       "\n",
       "    .dataframe thead th {\n",
       "        text-align: right;\n",
       "    }\n",
       "</style>\n",
       "<table border=\"1\" class=\"dataframe\">\n",
       "  <thead>\n",
       "    <tr style=\"text-align: right;\">\n",
       "      <th></th>\n",
       "      <th>status_id</th>\n",
       "      <th>num_reactions</th>\n",
       "      <th>num_comments</th>\n",
       "      <th>num_shares</th>\n",
       "      <th>num_likes</th>\n",
       "      <th>num_loves</th>\n",
       "      <th>num_wows</th>\n",
       "      <th>num_hahas</th>\n",
       "      <th>num_sads</th>\n",
       "      <th>num_angrys</th>\n",
       "      <th>status_link</th>\n",
       "      <th>status_photo</th>\n",
       "      <th>status_status</th>\n",
       "    </tr>\n",
       "  </thead>\n",
       "  <tbody>\n",
       "    <tr>\n",
       "      <th>7045</th>\n",
       "      <td>1050855161656896_1061863470556065</td>\n",
       "      <td>89</td>\n",
       "      <td>0</td>\n",
       "      <td>0</td>\n",
       "      <td>89</td>\n",
       "      <td>0</td>\n",
       "      <td>0</td>\n",
       "      <td>0</td>\n",
       "      <td>0</td>\n",
       "      <td>0</td>\n",
       "      <td>0</td>\n",
       "      <td>1</td>\n",
       "      <td>0</td>\n",
       "    </tr>\n",
       "    <tr>\n",
       "      <th>7046</th>\n",
       "      <td>1050855161656896_1061334757275603</td>\n",
       "      <td>16</td>\n",
       "      <td>0</td>\n",
       "      <td>0</td>\n",
       "      <td>14</td>\n",
       "      <td>1</td>\n",
       "      <td>0</td>\n",
       "      <td>1</td>\n",
       "      <td>0</td>\n",
       "      <td>0</td>\n",
       "      <td>0</td>\n",
       "      <td>1</td>\n",
       "      <td>0</td>\n",
       "    </tr>\n",
       "    <tr>\n",
       "      <th>7047</th>\n",
       "      <td>1050855161656896_1060126464063099</td>\n",
       "      <td>2</td>\n",
       "      <td>0</td>\n",
       "      <td>0</td>\n",
       "      <td>1</td>\n",
       "      <td>1</td>\n",
       "      <td>0</td>\n",
       "      <td>0</td>\n",
       "      <td>0</td>\n",
       "      <td>0</td>\n",
       "      <td>0</td>\n",
       "      <td>1</td>\n",
       "      <td>0</td>\n",
       "    </tr>\n",
       "    <tr>\n",
       "      <th>7048</th>\n",
       "      <td>1050855161656896_1058663487542730</td>\n",
       "      <td>351</td>\n",
       "      <td>12</td>\n",
       "      <td>22</td>\n",
       "      <td>349</td>\n",
       "      <td>2</td>\n",
       "      <td>0</td>\n",
       "      <td>0</td>\n",
       "      <td>0</td>\n",
       "      <td>0</td>\n",
       "      <td>0</td>\n",
       "      <td>1</td>\n",
       "      <td>0</td>\n",
       "    </tr>\n",
       "    <tr>\n",
       "      <th>7049</th>\n",
       "      <td>1050855161656896_1050858841656528</td>\n",
       "      <td>17</td>\n",
       "      <td>0</td>\n",
       "      <td>0</td>\n",
       "      <td>17</td>\n",
       "      <td>0</td>\n",
       "      <td>0</td>\n",
       "      <td>0</td>\n",
       "      <td>0</td>\n",
       "      <td>0</td>\n",
       "      <td>0</td>\n",
       "      <td>1</td>\n",
       "      <td>0</td>\n",
       "    </tr>\n",
       "  </tbody>\n",
       "</table>\n",
       "</div>"
      ],
      "text/plain": [
       "                              status_id  num_reactions  num_comments  \\\n",
       "7045  1050855161656896_1061863470556065             89             0   \n",
       "7046  1050855161656896_1061334757275603             16             0   \n",
       "7047  1050855161656896_1060126464063099              2             0   \n",
       "7048  1050855161656896_1058663487542730            351            12   \n",
       "7049  1050855161656896_1050858841656528             17             0   \n",
       "\n",
       "      num_shares  num_likes  num_loves  num_wows  num_hahas  num_sads  \\\n",
       "7045           0         89          0         0          0         0   \n",
       "7046           0         14          1         0          1         0   \n",
       "7047           0          1          1         0          0         0   \n",
       "7048          22        349          2         0          0         0   \n",
       "7049           0         17          0         0          0         0   \n",
       "\n",
       "      num_angrys  status_link  status_photo  status_status  \n",
       "7045           0            0             1              0  \n",
       "7046           0            0             1              0  \n",
       "7047           0            0             1              0  \n",
       "7048           0            0             1              0  \n",
       "7049           0            0             1              0  "
      ]
     },
     "execution_count": 4,
     "metadata": {},
     "output_type": "execute_result"
    }
   ],
   "source": [
    "data.tail()"
   ]
  },
  {
   "cell_type": "code",
   "execution_count": 5,
   "metadata": {},
   "outputs": [
    {
     "name": "stdout",
     "output_type": "stream",
     "text": [
      "<class 'pandas.core.frame.DataFrame'>\n",
      "RangeIndex: 7050 entries, 0 to 7049\n",
      "Data columns (total 13 columns):\n",
      " #   Column         Non-Null Count  Dtype \n",
      "---  ------         --------------  ----- \n",
      " 0   status_id      7050 non-null   object\n",
      " 1   num_reactions  7050 non-null   int64 \n",
      " 2   num_comments   7050 non-null   int64 \n",
      " 3   num_shares     7050 non-null   int64 \n",
      " 4   num_likes      7050 non-null   int64 \n",
      " 5   num_loves      7050 non-null   int64 \n",
      " 6   num_wows       7050 non-null   int64 \n",
      " 7   num_hahas      7050 non-null   int64 \n",
      " 8   num_sads       7050 non-null   int64 \n",
      " 9   num_angrys     7050 non-null   int64 \n",
      " 10  status_link    7050 non-null   int64 \n",
      " 11  status_photo   7050 non-null   int64 \n",
      " 12  status_status  7050 non-null   int64 \n",
      "dtypes: int64(12), object(1)\n",
      "memory usage: 716.1+ KB\n"
     ]
    }
   ],
   "source": [
    "data.info()"
   ]
  },
  {
   "cell_type": "code",
   "execution_count": 6,
   "metadata": {},
   "outputs": [
    {
     "data": {
      "text/plain": [
       "(7050, 13)"
      ]
     },
     "execution_count": 6,
     "metadata": {},
     "output_type": "execute_result"
    }
   ],
   "source": [
    "data.shape"
   ]
  },
  {
   "cell_type": "code",
   "execution_count": 7,
   "metadata": {},
   "outputs": [
    {
     "data": {
      "text/html": [
       "<div>\n",
       "<style scoped>\n",
       "    .dataframe tbody tr th:only-of-type {\n",
       "        vertical-align: middle;\n",
       "    }\n",
       "\n",
       "    .dataframe tbody tr th {\n",
       "        vertical-align: top;\n",
       "    }\n",
       "\n",
       "    .dataframe thead th {\n",
       "        text-align: right;\n",
       "    }\n",
       "</style>\n",
       "<table border=\"1\" class=\"dataframe\">\n",
       "  <thead>\n",
       "    <tr style=\"text-align: right;\">\n",
       "      <th></th>\n",
       "      <th>num_reactions</th>\n",
       "      <th>num_comments</th>\n",
       "      <th>num_shares</th>\n",
       "      <th>num_likes</th>\n",
       "      <th>num_loves</th>\n",
       "      <th>num_wows</th>\n",
       "      <th>num_hahas</th>\n",
       "      <th>num_sads</th>\n",
       "      <th>num_angrys</th>\n",
       "      <th>status_link</th>\n",
       "      <th>status_photo</th>\n",
       "      <th>status_status</th>\n",
       "    </tr>\n",
       "  </thead>\n",
       "  <tbody>\n",
       "    <tr>\n",
       "      <th>count</th>\n",
       "      <td>7050.000000</td>\n",
       "      <td>7050.000000</td>\n",
       "      <td>7050.000000</td>\n",
       "      <td>7050.000000</td>\n",
       "      <td>7050.000000</td>\n",
       "      <td>7050.000000</td>\n",
       "      <td>7050.000000</td>\n",
       "      <td>7050.000000</td>\n",
       "      <td>7050.000000</td>\n",
       "      <td>7050.000000</td>\n",
       "      <td>7050.000000</td>\n",
       "      <td>7050.000000</td>\n",
       "    </tr>\n",
       "    <tr>\n",
       "      <th>mean</th>\n",
       "      <td>230.117163</td>\n",
       "      <td>224.356028</td>\n",
       "      <td>40.022553</td>\n",
       "      <td>215.043121</td>\n",
       "      <td>12.728652</td>\n",
       "      <td>1.289362</td>\n",
       "      <td>0.696454</td>\n",
       "      <td>0.243688</td>\n",
       "      <td>0.113191</td>\n",
       "      <td>0.008936</td>\n",
       "      <td>0.608227</td>\n",
       "      <td>0.051773</td>\n",
       "    </tr>\n",
       "    <tr>\n",
       "      <th>std</th>\n",
       "      <td>462.625309</td>\n",
       "      <td>889.636820</td>\n",
       "      <td>131.599965</td>\n",
       "      <td>449.472357</td>\n",
       "      <td>39.972930</td>\n",
       "      <td>8.719650</td>\n",
       "      <td>3.957183</td>\n",
       "      <td>1.597156</td>\n",
       "      <td>0.726812</td>\n",
       "      <td>0.094115</td>\n",
       "      <td>0.488181</td>\n",
       "      <td>0.221584</td>\n",
       "    </tr>\n",
       "    <tr>\n",
       "      <th>min</th>\n",
       "      <td>0.000000</td>\n",
       "      <td>0.000000</td>\n",
       "      <td>0.000000</td>\n",
       "      <td>0.000000</td>\n",
       "      <td>0.000000</td>\n",
       "      <td>0.000000</td>\n",
       "      <td>0.000000</td>\n",
       "      <td>0.000000</td>\n",
       "      <td>0.000000</td>\n",
       "      <td>0.000000</td>\n",
       "      <td>0.000000</td>\n",
       "      <td>0.000000</td>\n",
       "    </tr>\n",
       "    <tr>\n",
       "      <th>25%</th>\n",
       "      <td>17.000000</td>\n",
       "      <td>0.000000</td>\n",
       "      <td>0.000000</td>\n",
       "      <td>17.000000</td>\n",
       "      <td>0.000000</td>\n",
       "      <td>0.000000</td>\n",
       "      <td>0.000000</td>\n",
       "      <td>0.000000</td>\n",
       "      <td>0.000000</td>\n",
       "      <td>0.000000</td>\n",
       "      <td>0.000000</td>\n",
       "      <td>0.000000</td>\n",
       "    </tr>\n",
       "    <tr>\n",
       "      <th>50%</th>\n",
       "      <td>59.500000</td>\n",
       "      <td>4.000000</td>\n",
       "      <td>0.000000</td>\n",
       "      <td>58.000000</td>\n",
       "      <td>0.000000</td>\n",
       "      <td>0.000000</td>\n",
       "      <td>0.000000</td>\n",
       "      <td>0.000000</td>\n",
       "      <td>0.000000</td>\n",
       "      <td>0.000000</td>\n",
       "      <td>1.000000</td>\n",
       "      <td>0.000000</td>\n",
       "    </tr>\n",
       "    <tr>\n",
       "      <th>75%</th>\n",
       "      <td>219.000000</td>\n",
       "      <td>23.000000</td>\n",
       "      <td>4.000000</td>\n",
       "      <td>184.750000</td>\n",
       "      <td>3.000000</td>\n",
       "      <td>0.000000</td>\n",
       "      <td>0.000000</td>\n",
       "      <td>0.000000</td>\n",
       "      <td>0.000000</td>\n",
       "      <td>0.000000</td>\n",
       "      <td>1.000000</td>\n",
       "      <td>0.000000</td>\n",
       "    </tr>\n",
       "    <tr>\n",
       "      <th>max</th>\n",
       "      <td>4710.000000</td>\n",
       "      <td>20990.000000</td>\n",
       "      <td>3424.000000</td>\n",
       "      <td>4710.000000</td>\n",
       "      <td>657.000000</td>\n",
       "      <td>278.000000</td>\n",
       "      <td>157.000000</td>\n",
       "      <td>51.000000</td>\n",
       "      <td>31.000000</td>\n",
       "      <td>1.000000</td>\n",
       "      <td>1.000000</td>\n",
       "      <td>1.000000</td>\n",
       "    </tr>\n",
       "  </tbody>\n",
       "</table>\n",
       "</div>"
      ],
      "text/plain": [
       "       num_reactions  num_comments   num_shares    num_likes    num_loves  \\\n",
       "count    7050.000000   7050.000000  7050.000000  7050.000000  7050.000000   \n",
       "mean      230.117163    224.356028    40.022553   215.043121    12.728652   \n",
       "std       462.625309    889.636820   131.599965   449.472357    39.972930   \n",
       "min         0.000000      0.000000     0.000000     0.000000     0.000000   \n",
       "25%        17.000000      0.000000     0.000000    17.000000     0.000000   \n",
       "50%        59.500000      4.000000     0.000000    58.000000     0.000000   \n",
       "75%       219.000000     23.000000     4.000000   184.750000     3.000000   \n",
       "max      4710.000000  20990.000000  3424.000000  4710.000000   657.000000   \n",
       "\n",
       "          num_wows    num_hahas     num_sads   num_angrys  status_link  \\\n",
       "count  7050.000000  7050.000000  7050.000000  7050.000000  7050.000000   \n",
       "mean      1.289362     0.696454     0.243688     0.113191     0.008936   \n",
       "std       8.719650     3.957183     1.597156     0.726812     0.094115   \n",
       "min       0.000000     0.000000     0.000000     0.000000     0.000000   \n",
       "25%       0.000000     0.000000     0.000000     0.000000     0.000000   \n",
       "50%       0.000000     0.000000     0.000000     0.000000     0.000000   \n",
       "75%       0.000000     0.000000     0.000000     0.000000     0.000000   \n",
       "max     278.000000   157.000000    51.000000    31.000000     1.000000   \n",
       "\n",
       "       status_photo  status_status  \n",
       "count   7050.000000    7050.000000  \n",
       "mean       0.608227       0.051773  \n",
       "std        0.488181       0.221584  \n",
       "min        0.000000       0.000000  \n",
       "25%        0.000000       0.000000  \n",
       "50%        1.000000       0.000000  \n",
       "75%        1.000000       0.000000  \n",
       "max        1.000000       1.000000  "
      ]
     },
     "execution_count": 7,
     "metadata": {},
     "output_type": "execute_result"
    }
   ],
   "source": [
    "data.describe()"
   ]
  },
  {
   "cell_type": "code",
   "execution_count": 8,
   "metadata": {},
   "outputs": [
    {
     "name": "stdout",
     "output_type": "stream",
     "text": [
      "                           status_id  num_reactions  num_comments  num_shares  \\\n",
      "0    246675545449582_326883450762124            1.0           0.0         0.0   \n",
      "1    246675545449582_429583263825475            NaN           NaN         NaN   \n",
      "2   819700534875473_1000607730118085            NaN           NaN         NaN   \n",
      "3   819700534875473_1001982519980606            NaN           NaN         NaN   \n",
      "4   819700534875473_1002372733274918            NaN           NaN         NaN   \n",
      "5    819700534875473_951614605017398            NaN           NaN         NaN   \n",
      "6    819700534875473_953048221540703            NaN           NaN         NaN   \n",
      "7    819700534875473_954387151406810            NaN           NaN         NaN   \n",
      "8    819700534875473_955149101330615            NaN           NaN         NaN   \n",
      "9    819700534875473_955743124604546            NaN           NaN         NaN   \n",
      "10   819700534875473_955793427932849            NaN           NaN         NaN   \n",
      "11   819700534875473_956769714501887            NaN           NaN         NaN   \n",
      "12   819700534875473_957599447752247            NaN           NaN         NaN   \n",
      "13   819700534875473_957697307742461            NaN           NaN         NaN   \n",
      "14   819700534875473_958291217683070            NaN           NaN         NaN   \n",
      "15   819700534875473_960320564146802            NaN           NaN         NaN   \n",
      "16   819700534875473_960466324132226            NaN           NaN         NaN   \n",
      "17   819700534875473_962032993975559            NaN           NaN         NaN   \n",
      "18   819700534875473_962061653972693            NaN           NaN         NaN   \n",
      "19   819700534875473_962694150576110            NaN           NaN         NaN   \n",
      "20   819700534875473_962799373898921            NaN           NaN         NaN   \n",
      "21   819700534875473_963754250470100            NaN           NaN         NaN   \n",
      "22   819700534875473_964582740387251            NaN           NaN         NaN   \n",
      "23   819700534875473_965407870304738            NaN           NaN         NaN   \n",
      "24   819700534875473_965614580284067            NaN           NaN         NaN   \n",
      "25   819700534875473_966156923563166            NaN           NaN         NaN   \n",
      "26   819700534875473_966629653515893            NaN           NaN         NaN   \n",
      "27   819700534875473_966878030157722            NaN           NaN         NaN   \n",
      "28   819700534875473_967787160066809            NaN           NaN         NaN   \n",
      "29   819700534875473_968264653352393            NaN           NaN         NaN   \n",
      "30   819700534875473_971940472984811            NaN           NaN         NaN   \n",
      "31   819700534875473_972433889602136            NaN           NaN         NaN   \n",
      "32   819700534875473_974461939399331            NaN           NaN         NaN   \n",
      "33   819700534875473_976401089205416            NaN           NaN         NaN   \n",
      "34   819700534875473_977201195792072            NaN           NaN         NaN   \n",
      "35   819700534875473_978746665637525            NaN           NaN         NaN   \n",
      "36   819700534875473_980941638751361            NaN           NaN         NaN   \n",
      "37   819700534875473_981835315328660            NaN           NaN         NaN   \n",
      "38   819700534875473_983794271799431            NaN           NaN         NaN   \n",
      "39   819700534875473_984750728370452            NaN           NaN         NaN   \n",
      "40   819700534875473_985229911655867            NaN           NaN         NaN   \n",
      "41   819700534875473_988583821320476            NaN           NaN         NaN   \n",
      "42   819700534875473_990066331172225            NaN           NaN         NaN   \n",
      "43   819700534875473_991757311003127            NaN           NaN         NaN   \n",
      "44   819700534875473_993049450873913            NaN           NaN         NaN   \n",
      "45   819700534875473_993602007485324            NaN           NaN         NaN   \n",
      "46   819700534875473_993975437447981            NaN           NaN         NaN   \n",
      "47   819700534875473_995218893990302            NaN           NaN         NaN   \n",
      "48   819700534875473_995839410594917            NaN           NaN         NaN   \n",
      "49   819700534875473_995933077252217            NaN           NaN         NaN   \n",
      "50   819700534875473_997075427137982            NaN           NaN         NaN   \n",
      "51   819700534875473_998824716963053            NaN           NaN         NaN   \n",
      "52   819700534875473_999880033524188            NaN           NaN         NaN   \n",
      "\n",
      "    num_likes  num_loves  num_wows  num_hahas  num_sads  num_angrys  \\\n",
      "0         1.0        0.0       0.0        0.0       0.0         0.0   \n",
      "1         NaN        NaN       NaN        NaN       NaN         NaN   \n",
      "2         NaN        NaN       NaN        NaN       NaN         NaN   \n",
      "3         NaN        NaN       NaN        NaN       NaN         NaN   \n",
      "4         NaN        NaN       NaN        NaN       NaN         NaN   \n",
      "5         NaN        NaN       NaN        NaN       NaN         NaN   \n",
      "6         NaN        NaN       NaN        NaN       NaN         NaN   \n",
      "7         NaN        NaN       NaN        NaN       NaN         NaN   \n",
      "8         NaN        NaN       NaN        NaN       NaN         NaN   \n",
      "9         NaN        NaN       NaN        NaN       NaN         NaN   \n",
      "10        NaN        NaN       NaN        NaN       NaN         NaN   \n",
      "11        NaN        NaN       NaN        NaN       NaN         NaN   \n",
      "12        NaN        NaN       NaN        NaN       NaN         NaN   \n",
      "13        NaN        NaN       NaN        NaN       NaN         NaN   \n",
      "14        NaN        NaN       NaN        NaN       NaN         NaN   \n",
      "15        NaN        NaN       NaN        NaN       NaN         NaN   \n",
      "16        NaN        NaN       NaN        NaN       NaN         NaN   \n",
      "17        NaN        NaN       NaN        NaN       NaN         NaN   \n",
      "18        NaN        NaN       NaN        NaN       NaN         NaN   \n",
      "19        NaN        NaN       NaN        NaN       NaN         NaN   \n",
      "20        NaN        NaN       NaN        NaN       NaN         NaN   \n",
      "21        NaN        NaN       NaN        NaN       NaN         NaN   \n",
      "22        NaN        NaN       NaN        NaN       NaN         NaN   \n",
      "23        NaN        NaN       NaN        NaN       NaN         NaN   \n",
      "24        NaN        NaN       NaN        NaN       NaN         NaN   \n",
      "25        NaN        NaN       NaN        NaN       NaN         NaN   \n",
      "26        NaN        NaN       NaN        NaN       NaN         NaN   \n",
      "27        NaN        NaN       NaN        NaN       NaN         NaN   \n",
      "28        NaN        NaN       NaN        NaN       NaN         NaN   \n",
      "29        NaN        NaN       NaN        NaN       NaN         NaN   \n",
      "30        NaN        NaN       NaN        NaN       NaN         NaN   \n",
      "31        NaN        NaN       NaN        NaN       NaN         NaN   \n",
      "32        NaN        NaN       NaN        NaN       NaN         NaN   \n",
      "33        NaN        NaN       NaN        NaN       NaN         NaN   \n",
      "34        NaN        NaN       NaN        NaN       NaN         NaN   \n",
      "35        NaN        NaN       NaN        NaN       NaN         NaN   \n",
      "36        NaN        NaN       NaN        NaN       NaN         NaN   \n",
      "37        NaN        NaN       NaN        NaN       NaN         NaN   \n",
      "38        NaN        NaN       NaN        NaN       NaN         NaN   \n",
      "39        NaN        NaN       NaN        NaN       NaN         NaN   \n",
      "40        NaN        NaN       NaN        NaN       NaN         NaN   \n",
      "41        NaN        NaN       NaN        NaN       NaN         NaN   \n",
      "42        NaN        NaN       NaN        NaN       NaN         NaN   \n",
      "43        NaN        NaN       NaN        NaN       NaN         NaN   \n",
      "44        NaN        NaN       NaN        NaN       NaN         NaN   \n",
      "45        NaN        NaN       NaN        NaN       NaN         NaN   \n",
      "46        NaN        NaN       NaN        NaN       NaN         NaN   \n",
      "47        NaN        NaN       NaN        NaN       NaN         NaN   \n",
      "48        NaN        NaN       NaN        NaN       NaN         NaN   \n",
      "49        NaN        NaN       NaN        NaN       NaN         NaN   \n",
      "50        NaN        NaN       NaN        NaN       NaN         NaN   \n",
      "51        NaN        NaN       NaN        NaN       NaN         NaN   \n",
      "52        NaN        NaN       NaN        NaN       NaN         NaN   \n",
      "\n",
      "    status_link  status_photo  status_status  \n",
      "0           0.0           1.0            0.0  \n",
      "1           NaN           NaN            NaN  \n",
      "2           NaN           NaN            NaN  \n",
      "3           NaN           NaN            NaN  \n",
      "4           NaN           NaN            NaN  \n",
      "5           NaN           NaN            NaN  \n",
      "6           NaN           NaN            NaN  \n",
      "7           NaN           NaN            NaN  \n",
      "8           NaN           NaN            NaN  \n",
      "9           NaN           NaN            NaN  \n",
      "10          NaN           NaN            NaN  \n",
      "11          NaN           NaN            NaN  \n",
      "12          NaN           NaN            NaN  \n",
      "13          NaN           NaN            NaN  \n",
      "14          NaN           NaN            NaN  \n",
      "15          NaN           NaN            NaN  \n",
      "16          NaN           NaN            NaN  \n",
      "17          NaN           NaN            NaN  \n",
      "18          NaN           NaN            NaN  \n",
      "19          NaN           NaN            NaN  \n",
      "20          NaN           NaN            NaN  \n",
      "21          NaN           NaN            NaN  \n",
      "22          NaN           NaN            NaN  \n",
      "23          NaN           NaN            NaN  \n",
      "24          NaN           NaN            NaN  \n",
      "25          NaN           NaN            NaN  \n",
      "26          NaN           NaN            NaN  \n",
      "27          NaN           NaN            NaN  \n",
      "28          NaN           NaN            NaN  \n",
      "29          NaN           NaN            NaN  \n",
      "30          NaN           NaN            NaN  \n",
      "31          NaN           NaN            NaN  \n",
      "32          NaN           NaN            NaN  \n",
      "33          NaN           NaN            NaN  \n",
      "34          NaN           NaN            NaN  \n",
      "35          NaN           NaN            NaN  \n",
      "36          NaN           NaN            NaN  \n",
      "37          NaN           NaN            NaN  \n",
      "38          NaN           NaN            NaN  \n",
      "39          NaN           NaN            NaN  \n",
      "40          NaN           NaN            NaN  \n",
      "41          NaN           NaN            NaN  \n",
      "42          NaN           NaN            NaN  \n",
      "43          NaN           NaN            NaN  \n",
      "44          NaN           NaN            NaN  \n",
      "45          NaN           NaN            NaN  \n",
      "46          NaN           NaN            NaN  \n",
      "47          NaN           NaN            NaN  \n",
      "48          NaN           NaN            NaN  \n",
      "49          NaN           NaN            NaN  \n",
      "50          NaN           NaN            NaN  \n",
      "51          NaN           NaN            NaN  \n",
      "52          NaN           NaN            NaN  \n"
     ]
    }
   ],
   "source": [
    "print(data.mode())"
   ]
  },
  {
   "cell_type": "code",
   "execution_count": 9,
   "metadata": {},
   "outputs": [
    {
     "name": "stdout",
     "output_type": "stream",
     "text": [
      "Data_quantile(25%): num_reactions    17.0\n",
      "num_comments      0.0\n",
      "num_shares        0.0\n",
      "num_likes        17.0\n",
      "num_loves         0.0\n",
      "num_wows          0.0\n",
      "num_hahas         0.0\n",
      "num_sads          0.0\n",
      "num_angrys        0.0\n",
      "status_link       0.0\n",
      "status_photo      0.0\n",
      "status_status     0.0\n",
      "Name: 0.25, dtype: float64\n"
     ]
    }
   ],
   "source": [
    "print(\"Data_quantile(25%):\",data.quantile(q=0.25))"
   ]
  },
  {
   "cell_type": "code",
   "execution_count": 10,
   "metadata": {},
   "outputs": [
    {
     "name": "stdout",
     "output_type": "stream",
     "text": [
      "Data_quantile(50%): num_reactions    59.5\n",
      "num_comments      4.0\n",
      "num_shares        0.0\n",
      "num_likes        58.0\n",
      "num_loves         0.0\n",
      "num_wows          0.0\n",
      "num_hahas         0.0\n",
      "num_sads          0.0\n",
      "num_angrys        0.0\n",
      "status_link       0.0\n",
      "status_photo      1.0\n",
      "status_status     0.0\n",
      "Name: 0.5, dtype: float64\n"
     ]
    }
   ],
   "source": [
    "print(\"Data_quantile(50%):\",data.quantile(q=0.50))"
   ]
  },
  {
   "cell_type": "code",
   "execution_count": 11,
   "metadata": {},
   "outputs": [
    {
     "name": "stdout",
     "output_type": "stream",
     "text": [
      "Data_quantile(75%): num_reactions    219.00\n",
      "num_comments      23.00\n",
      "num_shares         4.00\n",
      "num_likes        184.75\n",
      "num_loves          3.00\n",
      "num_wows           0.00\n",
      "num_hahas          0.00\n",
      "num_sads           0.00\n",
      "num_angrys         0.00\n",
      "status_link        0.00\n",
      "status_photo       1.00\n",
      "status_status      0.00\n",
      "Name: 0.75, dtype: float64\n"
     ]
    }
   ],
   "source": [
    "print(\"Data_quantile(75%):\",data.quantile(q=0.75))"
   ]
  },
  {
   "cell_type": "code",
   "execution_count": 12,
   "metadata": {},
   "outputs": [
    {
     "data": {
      "text/plain": [
       "status_id        0\n",
       "num_reactions    0\n",
       "num_comments     0\n",
       "num_shares       0\n",
       "num_likes        0\n",
       "num_loves        0\n",
       "num_wows         0\n",
       "num_hahas        0\n",
       "num_sads         0\n",
       "num_angrys       0\n",
       "status_link      0\n",
       "status_photo     0\n",
       "status_status    0\n",
       "dtype: int64"
      ]
     },
     "execution_count": 12,
     "metadata": {},
     "output_type": "execute_result"
    }
   ],
   "source": [
    "data.isnull().sum()"
   ]
  },
  {
   "cell_type": "code",
   "execution_count": 13,
   "metadata": {},
   "outputs": [
    {
     "data": {
      "text/plain": [
       "5983"
      ]
     },
     "execution_count": 13,
     "metadata": {},
     "output_type": "execute_result"
    }
   ],
   "source": [
    "dups=data['num_reactions'].duplicated()\n",
    "dups.sum()"
   ]
  },
  {
   "cell_type": "code",
   "execution_count": 14,
   "metadata": {},
   "outputs": [
    {
     "data": {
      "text/plain": [
       "6057"
      ]
     },
     "execution_count": 14,
     "metadata": {},
     "output_type": "execute_result"
    }
   ],
   "source": [
    "dups=data['num_comments'].duplicated()\n",
    "dups.sum()"
   ]
  },
  {
   "cell_type": "code",
   "execution_count": 15,
   "metadata": {},
   "outputs": [
    {
     "data": {
      "text/plain": [
       "6549"
      ]
     },
     "execution_count": 15,
     "metadata": {},
     "output_type": "execute_result"
    }
   ],
   "source": [
    "dups=data['num_shares'].duplicated()\n",
    "dups.sum()"
   ]
  },
  {
   "cell_type": "code",
   "execution_count": 16,
   "metadata": {},
   "outputs": [
    {
     "data": {
      "text/plain": [
       "6006"
      ]
     },
     "execution_count": 16,
     "metadata": {},
     "output_type": "execute_result"
    }
   ],
   "source": [
    "dups=data['num_likes'].duplicated()\n",
    "dups.sum()"
   ]
  },
  {
   "cell_type": "code",
   "execution_count": 17,
   "metadata": {},
   "outputs": [
    {
     "data": {
      "text/plain": [
       "6821"
      ]
     },
     "execution_count": 17,
     "metadata": {},
     "output_type": "execute_result"
    }
   ],
   "source": [
    "dups=data['num_loves'].duplicated()\n",
    "dups.sum()"
   ]
  },
  {
   "cell_type": "code",
   "execution_count": 18,
   "metadata": {},
   "outputs": [
    {
     "data": {
      "text/plain": [
       "6985"
      ]
     },
     "execution_count": 18,
     "metadata": {},
     "output_type": "execute_result"
    }
   ],
   "source": [
    "dups=data['num_wows'].duplicated()\n",
    "dups.sum()"
   ]
  },
  {
   "cell_type": "code",
   "execution_count": 19,
   "metadata": {},
   "outputs": [
    {
     "data": {
      "text/plain": [
       "7008"
      ]
     },
     "execution_count": 19,
     "metadata": {},
     "output_type": "execute_result"
    }
   ],
   "source": [
    "dups=data['num_hahas'].duplicated()\n",
    "dups.sum()"
   ]
  },
  {
   "cell_type": "code",
   "execution_count": 20,
   "metadata": {},
   "outputs": [
    {
     "data": {
      "text/plain": [
       "7026"
      ]
     },
     "execution_count": 20,
     "metadata": {},
     "output_type": "execute_result"
    }
   ],
   "source": [
    "dups=data['num_sads'].duplicated()\n",
    "dups.sum()"
   ]
  },
  {
   "cell_type": "code",
   "execution_count": 21,
   "metadata": {},
   "outputs": [
    {
     "data": {
      "text/plain": [
       "7036"
      ]
     },
     "execution_count": 21,
     "metadata": {},
     "output_type": "execute_result"
    }
   ],
   "source": [
    "dups=data['num_angrys'].duplicated()\n",
    "dups.sum()"
   ]
  },
  {
   "cell_type": "code",
   "execution_count": 22,
   "metadata": {},
   "outputs": [
    {
     "data": {
      "text/plain": [
       "7048"
      ]
     },
     "execution_count": 22,
     "metadata": {},
     "output_type": "execute_result"
    }
   ],
   "source": [
    "dups=data['status_link'].duplicated()\n",
    "dups.sum()"
   ]
  },
  {
   "cell_type": "code",
   "execution_count": 23,
   "metadata": {},
   "outputs": [
    {
     "data": {
      "text/plain": [
       "7048"
      ]
     },
     "execution_count": 23,
     "metadata": {},
     "output_type": "execute_result"
    }
   ],
   "source": [
    "dups=data['status_photo'].duplicated()\n",
    "dups.sum()"
   ]
  },
  {
   "cell_type": "code",
   "execution_count": 24,
   "metadata": {},
   "outputs": [
    {
     "data": {
      "text/plain": [
       "7048"
      ]
     },
     "execution_count": 24,
     "metadata": {},
     "output_type": "execute_result"
    }
   ],
   "source": [
    "dups=data['status_status'].duplicated()\n",
    "dups.sum()"
   ]
  },
  {
   "cell_type": "code",
   "execution_count": 25,
   "metadata": {},
   "outputs": [
    {
     "data": {
      "text/plain": [
       "num_reactions    202.00\n",
       "num_comments      23.00\n",
       "num_shares         4.00\n",
       "num_likes        167.75\n",
       "num_loves          3.00\n",
       "num_wows           0.00\n",
       "num_hahas          0.00\n",
       "num_sads           0.00\n",
       "num_angrys         0.00\n",
       "status_link        0.00\n",
       "status_photo       1.00\n",
       "status_status      0.00\n",
       "dtype: float64"
      ]
     },
     "execution_count": 25,
     "metadata": {},
     "output_type": "execute_result"
    }
   ],
   "source": [
    "data.quantile(0.75) - data.quantile(0.25)"
   ]
  },
  {
   "cell_type": "code",
   "execution_count": 26,
   "metadata": {},
   "outputs": [
    {
     "data": {
      "image/png": "[encoded data removed]",
      "text/plain": [
       "<Figure size 432x288 with 1 Axes>"
      ]
     },
     "metadata": {
      "needs_background": "light"
     },
     "output_type": "display_data"
    }
   ],
   "source": [
    "data.boxplot(column=['num_reactions'])\n",
    "plt.show()"
   ]
  },
  {
   "cell_type": "code",
   "execution_count": 27,
   "metadata": {},
   "outputs": [
    {
     "data": {
      "image/png": "[encoded data removed]",
      "text/plain": [
       "<Figure size 432x288 with 1 Axes>"
      ]
     },
     "metadata": {
      "needs_background": "light"
     },
     "output_type": "display_data"
    }
   ],
   "source": [
    "data.boxplot(column=['num_comments'])\n",
    "plt.show()"
   ]
  },
  {
   "cell_type": "code",
   "execution_count": 28,
   "metadata": {},
   "outputs": [
    {
     "data": {
      "image/png": "[encoded data removed]",
      "text/plain": [
       "<Figure size 432x288 with 1 Axes>"
      ]
     },
     "metadata": {
      "needs_background": "light"
     },
     "output_type": "display_data"
    }
   ],
   "source": [
    "data.boxplot(column=['num_shares'])\n",
    "plt.show()"
   ]
  },
  {
   "cell_type": "code",
   "execution_count": 29,
   "metadata": {},
   "outputs": [
    {
     "data": {
      "image/png": "[encoded data removed]",
      "text/plain": [
       "<Figure size 432x288 with 1 Axes>"
      ]
     },
     "metadata": {
      "needs_background": "light"
     },
     "output_type": "display_data"
    }
   ],
   "source": [
    "data.boxplot(column=['num_likes'])\n",
    "plt.show()"
   ]
  },
  {
   "cell_type": "code",
   "execution_count": 30,
   "metadata": {},
   "outputs": [
    {
     "data": {
      "image/png": "[encoded data removed]",
      "text/plain": [
       "<Figure size 432x288 with 1 Axes>"
      ]
     },
     "metadata": {
      "needs_background": "light"
     },
     "output_type": "display_data"
    }
   ],
   "source": [
    "data.boxplot(column=['num_loves'])\n",
    "plt.show()"
   ]
  },
  {
   "cell_type": "code",
   "execution_count": 31,
   "metadata": {},
   "outputs": [
    {
     "data": {
      "image/png": "[encoded data removed]",
      "text/plain": [
       "<Figure size 432x288 with 1 Axes>"
      ]
     },
     "metadata": {
      "needs_background": "light"
     },
     "output_type": "display_data"
    }
   ],
   "source": [
    "data.boxplot(column=['num_wows'])\n",
    "plt.show()"
   ]
  },
  {
   "cell_type": "code",
   "execution_count": 32,
   "metadata": {},
   "outputs": [
    {
     "data": {
      "image/png": "[encoded data removed]",
      "text/plain": [
       "<Figure size 432x288 with 1 Axes>"
      ]
     },
     "metadata": {
      "needs_background": "light"
     },
     "output_type": "display_data"
    }
   ],
   "source": [
    "data.boxplot(column=['num_hahas'])\n",
    "plt.show()"
   ]
  },
  {
   "cell_type": "code",
   "execution_count": 33,
   "metadata": {},
   "outputs": [
    {
     "data": {
      "image/png": "[encoded data removed]",
      "text/plain": [
       "<Figure size 432x288 with 1 Axes>"
      ]
     },
     "metadata": {
      "needs_background": "light"
     },
     "output_type": "display_data"
    }
   ],
   "source": [
    "data.boxplot(column=['num_sads'])\n",
    "plt.show()"
   ]
  },
  {
   "cell_type": "code",
   "execution_count": 34,
   "metadata": {},
   "outputs": [
    {
     "data": {
      "image/png": "[encoded data removed]",
      "text/plain": [
       "<Figure size 432x288 with 1 Axes>"
      ]
     },
     "metadata": {
      "needs_background": "light"
     },
     "output_type": "display_data"
    }
   ],
   "source": [
    "data.boxplot(column=['num_angrys'])\n",
    "plt.show()"
   ]
  },
  {
   "cell_type": "code",
   "execution_count": 35,
   "metadata": {},
   "outputs": [
    {
     "data": {
      "image/png": "[encoded data removed]",
      "text/plain": [
       "<Figure size 432x288 with 1 Axes>"
      ]
     },
     "metadata": {
      "needs_background": "light"
     },
     "output_type": "display_data"
    }
   ],
   "source": [
    "data.boxplot(column=['status_link'])\n",
    "plt.show()"
   ]
  },
  {
   "cell_type": "code",
   "execution_count": 36,
   "metadata": {},
   "outputs": [
    {
     "data": {
      "image/png": "[encoded data removed]",
      "text/plain": [
       "<Figure size 432x288 with 1 Axes>"
      ]
     },
     "metadata": {
      "needs_background": "light"
     },
     "output_type": "display_data"
    }
   ],
   "source": [
    "data.boxplot(column=['status_photo'])\n",
    "plt.show()"
   ]
  },
  {
   "cell_type": "code",
   "execution_count": 37,
   "metadata": {},
   "outputs": [
    {
     "data": {
      "image/png": "[encoded data removed]",
      "text/plain": [
       "<Figure size 432x288 with 1 Axes>"
      ]
     },
     "metadata": {
      "needs_background": "light"
     },
     "output_type": "display_data"
    }
   ],
   "source": [
    "data.boxplot(column=['status_status'])\n",
    "plt.show()"
   ]
  },
  {
   "cell_type": "code",
   "execution_count": 38,
   "metadata": {
    "scrolled": true
   },
   "outputs": [
    {
     "data": {
      "text/plain": [
       "<matplotlib.axes._subplots.AxesSubplot at 0x290a7a4ea08>"
      ]
     },
     "execution_count": 38,
     "metadata": {},
     "output_type": "execute_result"
    },
    {
     "data": {
      "image/png": "[encoded data removed]",
      "text/plain": [
       "<Figure size 1440x216 with 1 Axes>"
      ]
     },
     "metadata": {
      "needs_background": "light"
     },
     "output_type": "display_data"
    }
   ],
   "source": [
    "data.boxplot(figsize=(20,3))"
   ]
  },
  {
   "cell_type": "code",
   "execution_count": 39,
   "metadata": {},
   "outputs": [
    {
     "data": {
      "text/html": [
       "<div>\n",
       "<style scoped>\n",
       "    .dataframe tbody tr th:only-of-type {\n",
       "        vertical-align: middle;\n",
       "    }\n",
       "\n",
       "    .dataframe tbody tr th {\n",
       "        vertical-align: top;\n",
       "    }\n",
       "\n",
       "    .dataframe thead th {\n",
       "        text-align: right;\n",
       "    }\n",
       "</style>\n",
       "<table border=\"1\" class=\"dataframe\">\n",
       "  <thead>\n",
       "    <tr style=\"text-align: right;\">\n",
       "      <th></th>\n",
       "      <th>num_reactions</th>\n",
       "      <th>num_comments</th>\n",
       "      <th>num_shares</th>\n",
       "      <th>num_likes</th>\n",
       "      <th>num_loves</th>\n",
       "      <th>num_wows</th>\n",
       "      <th>num_hahas</th>\n",
       "      <th>num_sads</th>\n",
       "      <th>num_angrys</th>\n",
       "      <th>status_link</th>\n",
       "      <th>status_photo</th>\n",
       "      <th>status_status</th>\n",
       "    </tr>\n",
       "  </thead>\n",
       "  <tbody>\n",
       "    <tr>\n",
       "      <th>0</th>\n",
       "      <td>529</td>\n",
       "      <td>512</td>\n",
       "      <td>262</td>\n",
       "      <td>432</td>\n",
       "      <td>92</td>\n",
       "      <td>3</td>\n",
       "      <td>1</td>\n",
       "      <td>1</td>\n",
       "      <td>0</td>\n",
       "      <td>0</td>\n",
       "      <td>0</td>\n",
       "      <td>0</td>\n",
       "    </tr>\n",
       "    <tr>\n",
       "      <th>1</th>\n",
       "      <td>150</td>\n",
       "      <td>0</td>\n",
       "      <td>0</td>\n",
       "      <td>150</td>\n",
       "      <td>0</td>\n",
       "      <td>0</td>\n",
       "      <td>0</td>\n",
       "      <td>0</td>\n",
       "      <td>0</td>\n",
       "      <td>0</td>\n",
       "      <td>1</td>\n",
       "      <td>0</td>\n",
       "    </tr>\n",
       "    <tr>\n",
       "      <th>2</th>\n",
       "      <td>227</td>\n",
       "      <td>236</td>\n",
       "      <td>57</td>\n",
       "      <td>204</td>\n",
       "      <td>21</td>\n",
       "      <td>1</td>\n",
       "      <td>1</td>\n",
       "      <td>0</td>\n",
       "      <td>0</td>\n",
       "      <td>0</td>\n",
       "      <td>0</td>\n",
       "      <td>0</td>\n",
       "    </tr>\n",
       "    <tr>\n",
       "      <th>3</th>\n",
       "      <td>111</td>\n",
       "      <td>0</td>\n",
       "      <td>0</td>\n",
       "      <td>111</td>\n",
       "      <td>0</td>\n",
       "      <td>0</td>\n",
       "      <td>0</td>\n",
       "      <td>0</td>\n",
       "      <td>0</td>\n",
       "      <td>0</td>\n",
       "      <td>1</td>\n",
       "      <td>0</td>\n",
       "    </tr>\n",
       "    <tr>\n",
       "      <th>4</th>\n",
       "      <td>213</td>\n",
       "      <td>0</td>\n",
       "      <td>0</td>\n",
       "      <td>204</td>\n",
       "      <td>9</td>\n",
       "      <td>0</td>\n",
       "      <td>0</td>\n",
       "      <td>0</td>\n",
       "      <td>0</td>\n",
       "      <td>0</td>\n",
       "      <td>1</td>\n",
       "      <td>0</td>\n",
       "    </tr>\n",
       "  </tbody>\n",
       "</table>\n",
       "</div>"
      ],
      "text/plain": [
       "   num_reactions  num_comments  num_shares  num_likes  num_loves  num_wows  \\\n",
       "0            529           512         262        432         92         3   \n",
       "1            150             0           0        150          0         0   \n",
       "2            227           236          57        204         21         1   \n",
       "3            111             0           0        111          0         0   \n",
       "4            213             0           0        204          9         0   \n",
       "\n",
       "   num_hahas  num_sads  num_angrys  status_link  status_photo  status_status  \n",
       "0          1         1           0            0             0              0  \n",
       "1          0         0           0            0             1              0  \n",
       "2          1         0           0            0             0              0  \n",
       "3          0         0           0            0             1              0  \n",
       "4          0         0           0            0             1              0  "
      ]
     },
     "execution_count": 39,
     "metadata": {},
     "output_type": "execute_result"
    }
   ],
   "source": [
    "data_new = data.drop(['status_id'], axis =1)\n",
    "\n",
    "data_new.head()"
   ]
  },
  {
   "cell_type": "code",
   "execution_count": 40,
   "metadata": {},
   "outputs": [
    {
     "data": {
      "text/html": [
       "<div>\n",
       "<style scoped>\n",
       "    .dataframe tbody tr th:only-of-type {\n",
       "        vertical-align: middle;\n",
       "    }\n",
       "\n",
       "    .dataframe tbody tr th {\n",
       "        vertical-align: top;\n",
       "    }\n",
       "\n",
       "    .dataframe thead th {\n",
       "        text-align: right;\n",
       "    }\n",
       "</style>\n",
       "<table border=\"1\" class=\"dataframe\">\n",
       "  <thead>\n",
       "    <tr style=\"text-align: right;\">\n",
       "      <th></th>\n",
       "      <th>num_reactions</th>\n",
       "      <th>num_comments</th>\n",
       "      <th>num_shares</th>\n",
       "      <th>num_likes</th>\n",
       "      <th>num_loves</th>\n",
       "      <th>num_wows</th>\n",
       "      <th>num_hahas</th>\n",
       "      <th>num_sads</th>\n",
       "      <th>num_angrys</th>\n",
       "      <th>status_link</th>\n",
       "      <th>status_photo</th>\n",
       "      <th>status_status</th>\n",
       "    </tr>\n",
       "  </thead>\n",
       "  <tbody>\n",
       "    <tr>\n",
       "      <th>0</th>\n",
       "      <td>0.646104</td>\n",
       "      <td>0.323350</td>\n",
       "      <td>1.686879</td>\n",
       "      <td>0.482727</td>\n",
       "      <td>1.983266</td>\n",
       "      <td>0.196196</td>\n",
       "      <td>0.076713</td>\n",
       "      <td>0.473570</td>\n",
       "      <td>-0.155748</td>\n",
       "      <td>-0.094957</td>\n",
       "      <td>-1.245993</td>\n",
       "      <td>-0.233666</td>\n",
       "    </tr>\n",
       "    <tr>\n",
       "      <th>1</th>\n",
       "      <td>-0.173192</td>\n",
       "      <td>-0.252206</td>\n",
       "      <td>-0.304144</td>\n",
       "      <td>-0.144720</td>\n",
       "      <td>-0.318454</td>\n",
       "      <td>-0.147879</td>\n",
       "      <td>-0.176010</td>\n",
       "      <td>-0.152587</td>\n",
       "      <td>-0.155748</td>\n",
       "      <td>-0.094957</td>\n",
       "      <td>0.802573</td>\n",
       "      <td>-0.233666</td>\n",
       "    </tr>\n",
       "    <tr>\n",
       "      <th>2</th>\n",
       "      <td>-0.006738</td>\n",
       "      <td>0.013089</td>\n",
       "      <td>0.129017</td>\n",
       "      <td>-0.024571</td>\n",
       "      <td>0.206938</td>\n",
       "      <td>-0.033187</td>\n",
       "      <td>0.076713</td>\n",
       "      <td>-0.152587</td>\n",
       "      <td>-0.155748</td>\n",
       "      <td>-0.094957</td>\n",
       "      <td>-1.245993</td>\n",
       "      <td>-0.233666</td>\n",
       "    </tr>\n",
       "    <tr>\n",
       "      <th>3</th>\n",
       "      <td>-0.257499</td>\n",
       "      <td>-0.252206</td>\n",
       "      <td>-0.304144</td>\n",
       "      <td>-0.231495</td>\n",
       "      <td>-0.318454</td>\n",
       "      <td>-0.147879</td>\n",
       "      <td>-0.176010</td>\n",
       "      <td>-0.152587</td>\n",
       "      <td>-0.155748</td>\n",
       "      <td>-0.094957</td>\n",
       "      <td>0.802573</td>\n",
       "      <td>-0.233666</td>\n",
       "    </tr>\n",
       "    <tr>\n",
       "      <th>4</th>\n",
       "      <td>-0.037003</td>\n",
       "      <td>-0.252206</td>\n",
       "      <td>-0.304144</td>\n",
       "      <td>-0.024571</td>\n",
       "      <td>-0.093286</td>\n",
       "      <td>-0.147879</td>\n",
       "      <td>-0.176010</td>\n",
       "      <td>-0.152587</td>\n",
       "      <td>-0.155748</td>\n",
       "      <td>-0.094957</td>\n",
       "      <td>0.802573</td>\n",
       "      <td>-0.233666</td>\n",
       "    </tr>\n",
       "  </tbody>\n",
       "</table>\n",
       "</div>"
      ],
      "text/plain": [
       "   num_reactions  num_comments  num_shares  num_likes  num_loves  num_wows  \\\n",
       "0       0.646104      0.323350    1.686879   0.482727   1.983266  0.196196   \n",
       "1      -0.173192     -0.252206   -0.304144  -0.144720  -0.318454 -0.147879   \n",
       "2      -0.006738      0.013089    0.129017  -0.024571   0.206938 -0.033187   \n",
       "3      -0.257499     -0.252206   -0.304144  -0.231495  -0.318454 -0.147879   \n",
       "4      -0.037003     -0.252206   -0.304144  -0.024571  -0.093286 -0.147879   \n",
       "\n",
       "   num_hahas  num_sads  num_angrys  status_link  status_photo  status_status  \n",
       "0   0.076713  0.473570   -0.155748    -0.094957     -1.245993      -0.233666  \n",
       "1  -0.176010 -0.152587   -0.155748    -0.094957      0.802573      -0.233666  \n",
       "2   0.076713 -0.152587   -0.155748    -0.094957     -1.245993      -0.233666  \n",
       "3  -0.176010 -0.152587   -0.155748    -0.094957      0.802573      -0.233666  \n",
       "4  -0.176010 -0.152587   -0.155748    -0.094957      0.802573      -0.233666  "
      ]
     },
     "execution_count": 40,
     "metadata": {},
     "output_type": "execute_result"
    }
   ],
   "source": [
    "from scipy.stats import zscore\n",
    "data_new=data_new.apply(zscore)\n",
    "data_new.head()"
   ]
  },
  {
   "cell_type": "code",
   "execution_count": 41,
   "metadata": {},
   "outputs": [
    {
     "name": "stdout",
     "output_type": "stream",
     "text": [
      "Covariance Matrix \n",
      "%s [[ 1.00014186  0.1508643   0.25075809  0.99506451  0.30504605  0.2677898\n",
      "   0.17605301  0.07514867  0.1243437   0.02874721 -0.13153369  0.10541715]\n",
      " [ 0.1508643   1.00014186  0.64072829  0.10170146  0.52129743  0.16241703\n",
      "   0.32509411  0.23648623  0.22521631 -0.02334367 -0.29188709 -0.04942026]\n",
      " [ 0.25075809  0.64072829  1.00014186  0.1725164   0.82011657  0.40768568\n",
      "   0.39988229  0.19999833  0.31255689 -0.02571137 -0.35483022 -0.06653382]\n",
      " [ 0.99506451  0.10170146  0.1725164   1.00014186  0.20933778  0.20782924\n",
      "   0.12080097  0.05217624  0.08744305  0.03266301 -0.10055153  0.11464773]\n",
      " [ 0.30504605  0.52129743  0.82011657  0.20933778  1.00014186  0.50887022\n",
      "   0.50790168  0.20762964  0.3710539  -0.02952704 -0.35179053 -0.06529185]\n",
      " [ 0.2677898   0.16241703  0.40768568  0.20782924  0.50887022  1.00014186\n",
      "   0.28779702  0.08651499  0.18311248 -0.01196935 -0.0864212  -0.00312953]\n",
      " [ 0.17605301  0.32509411  0.39988229  0.12080097  0.50790168  0.28779702\n",
      "   1.00014186  0.14144092  0.21194022 -0.01595372 -0.15925947 -0.03466092]\n",
      " [ 0.07514867  0.23648623  0.19999833  0.05217624  0.20762964  0.08651499\n",
      "   0.14144092  1.00014186  0.14209263 -0.01449119 -0.07896406  0.02086898]\n",
      " [ 0.1243437   0.22521631  0.31255689  0.08744305  0.3710539   0.18311248\n",
      "   0.21194022  0.14209263  1.00014186 -0.01479139 -0.11571171 -0.02846925]\n",
      " [ 0.02874721 -0.02334367 -0.02571137  0.03266301 -0.02952704 -0.01196935\n",
      "  -0.01595372 -0.01449119 -0.01479139  1.00014186 -0.11833196 -0.02219127]\n",
      " [-0.13153369 -0.29188709 -0.35483022 -0.10055153 -0.35179053 -0.0864212\n",
      "  -0.15925947 -0.07896406 -0.11571171 -0.11833196  1.00014186 -0.2911876 ]\n",
      " [ 0.10541715 -0.04942026 -0.06653382  0.11464773 -0.06529185 -0.00312953\n",
      "  -0.03466092  0.02086898 -0.02846925 -0.02219127 -0.2911876   1.00014186]]\n"
     ]
    }
   ],
   "source": [
    "cov_matrix = np.cov(data_new.T)\n",
    "print('Covariance Matrix \\n%s', cov_matrix)"
   ]
  },
  {
   "cell_type": "code",
   "execution_count": 42,
   "metadata": {},
   "outputs": [
    {
     "name": "stdout",
     "output_type": "stream",
     "text": [
      "Eigen Vectors \n",
      "%s [[ 2.93630543e-01  6.06641137e-01  7.15773171e-01  2.03910032e-02\n",
      "  -1.12002407e-01  4.82435866e-03  3.20850086e-02  2.42016415e-02\n",
      "  -6.97861393e-02  8.52072210e-02  8.18911389e-02 -1.04601450e-03]\n",
      " [ 3.47497866e-01 -2.30746002e-01 -1.26384681e-06  1.67785969e-01\n",
      "   8.75480006e-02 -5.17376834e-01 -5.15597556e-01 -3.99866919e-02\n",
      "  -1.69312690e-01  4.37540439e-01  1.86287704e-01  1.59573424e-02]\n",
      " [ 4.43254435e-01 -2.04910484e-01  1.73179788e-05 -6.71346886e-01\n",
      "   3.92859022e-03  4.57024584e-01 -1.12734594e-01 -2.04542894e-01\n",
      "  -5.09397191e-02  1.96740735e-01 -6.98659821e-02 -3.48387949e-02]\n",
      " [ 2.51769604e-01  6.40653903e-01 -6.95423734e-01 -3.90502026e-02\n",
      "  -1.05702016e-01 -2.79737958e-02  2.54206909e-02  3.28768718e-02\n",
      "  -8.70489869e-02  9.66955499e-02  1.02090297e-01  1.73807760e-03]\n",
      " [ 4.61255079e-01 -1.65917245e-01 -6.18696218e-02  7.03643043e-01\n",
      "  -5.18155502e-02  4.72074756e-01  7.92827429e-02 -8.44140094e-02\n",
      "   3.53002915e-02  4.86999544e-03 -1.39427366e-01 -3.33633828e-02]\n",
      " [ 2.96340391e-01  1.62620307e-02 -1.34885816e-02 -7.08473070e-02\n",
      "  -2.11548727e-01 -4.17684976e-01 -2.93540341e-02 -4.07729726e-01\n",
      "   4.88194788e-01 -3.72249407e-01 -3.77299473e-01 -3.37517224e-02]\n",
      " [ 3.08854346e-01 -1.39033435e-01 -6.11926720e-03 -1.19364205e-01\n",
      "  -1.01800997e-01 -9.89072403e-02  6.43937564e-02  8.72041584e-01\n",
      "   2.54094006e-01 -5.77002760e-02 -1.34291828e-01 -1.78014533e-02]\n",
      " [ 1.63130579e-01 -1.10415493e-01 -2.46986519e-03 -2.15417600e-02\n",
      "   4.98793399e-02  2.79589183e-02  1.61485163e-01 -8.01933929e-02\n",
      "   4.06107733e-01 -1.73120550e-01  8.16405043e-01  2.52065840e-01]\n",
      " [ 2.37246758e-01 -1.26874184e-01 -1.12235269e-03 -4.90180785e-02\n",
      "  -8.92316571e-02 -1.08786107e-01 -1.31307099e-02  3.56999871e-02\n",
      "  -6.61974694e-01 -6.69842952e-01  1.23557407e-01  4.24590001e-02]\n",
      " [-1.38340912e-03  6.41854579e-02  2.77128984e-08  1.08316035e-02\n",
      "   2.35213036e-01  6.50090460e-02 -2.07490740e-01  2.77449796e-02\n",
      "   1.24037696e-01 -1.90214360e-01  2.09968130e-01 -8.92599564e-01]\n",
      " [-2.32613706e-01  3.65506390e-02 -2.10860170e-06  3.74449557e-02\n",
      "  -6.43419111e-01  2.64740805e-01 -6.39131228e-01  7.27513701e-02\n",
      "   1.14406851e-01 -1.20870465e-01  1.11485989e-01  7.18869432e-02]\n",
      " [ 1.37973532e-02  2.13188742e-01  1.59933119e-07  2.08221545e-02\n",
      "   6.56534644e-01  1.69162607e-01 -4.80301401e-01  8.54568120e-02\n",
      "   1.43312376e-01 -2.86124118e-01 -1.58614319e-01  3.58771030e-01]]\n",
      "\n",
      " Eigen Values \n",
      "%s [3.59628800e+00 1.78479109e+00 1.64801523e-08 1.48486541e-01\n",
      " 1.25112250e+00 3.58889859e-01 5.28735394e-01 6.95632348e-01\n",
      " 8.11985438e-01 8.49591639e-01 9.55282786e-01 1.02089676e+00]\n"
     ]
    }
   ],
   "source": [
    "eig_vals, eig_vecs = np.linalg.eig(cov_matrix)\n",
    "print('Eigen Vectors \\n%s', eig_vecs)\n",
    "print('\\n Eigen Values \\n%s', eig_vals)"
   ]
  },
  {
   "cell_type": "code",
   "execution_count": 43,
   "metadata": {},
   "outputs": [
    {
     "name": "stdout",
     "output_type": "stream",
     "text": [
      "Cumulative Variance Explained [ 29.96481572  44.83596514  55.26050708  63.76677335  71.72633406\n",
      "  78.80526014  85.57084566  91.36695963  95.77246293  98.76278754\n",
      "  99.99999986 100.        ]\n"
     ]
    }
   ],
   "source": [
    "tot = sum(eig_vals)\n",
    "var_exp = [( i /tot ) * 100 for i in sorted(eig_vals, reverse=True)]\n",
    "cum_var_exp = np.cumsum(var_exp)\n",
    "print(\"Cumulative Variance Explained\", cum_var_exp)"
   ]
  },
  {
   "cell_type": "code",
   "execution_count": 44,
   "metadata": {},
   "outputs": [
    {
     "data": {
      "text/plain": [
       "[<matplotlib.lines.Line2D at 0x290a7c97f08>]"
      ]
     },
     "execution_count": 44,
     "metadata": {},
     "output_type": "execute_result"
    },
    {
     "data": {
      "image/png": "[encoded data removed]",
      "text/plain": [
       "<Figure size 432x288 with 1 Axes>"
      ]
     },
     "metadata": {
      "needs_background": "light"
     },
     "output_type": "display_data"
    }
   ],
   "source": [
    "plt.plot(var_exp)"
   ]
  },
  {
   "cell_type": "code",
   "execution_count": 45,
   "metadata": {},
   "outputs": [
    {
     "data": {
      "text/plain": [
       "array([[ 2.49500294, -0.80644199,  0.38778102, ..., -0.97231247,\n",
       "        -0.46550736, -0.96536827],\n",
       "       [-0.18957102,  0.00767383, -0.15966981, ..., -0.40295527,\n",
       "         0.50925543, -0.35632615],\n",
       "       [-0.42293659,  0.60872631, -0.62573078, ...,  0.53914638,\n",
       "         0.70494912,  0.54524478],\n",
       "       ...,\n",
       "       [-0.07067992,  0.0319256 , -0.30187144, ..., -0.03160793,\n",
       "         0.09656654, -0.02182985],\n",
       "       [-0.76515049,  0.01663126, -0.40336141, ...,  0.07582711,\n",
       "        -0.10224415,  0.06974368],\n",
       "       [-0.06510389, -0.04240942,  0.14226483, ..., -0.09447845,\n",
       "         0.03549011, -0.08823347]])"
      ]
     },
     "execution_count": 45,
     "metadata": {},
     "output_type": "execute_result"
    }
   ],
   "source": [
    "from sklearn.decomposition import PCA\n",
    "\n",
    "# NOTE - we are generating only 7 PCA dimensions (dimensionality reduction from 9 to 7)\n",
    "\n",
    "pca = PCA(n_components=7)\n",
    "data_reduced = pca.fit_transform(data_new)\n",
    "data_reduced.transpose()"
   ]
  },
  {
   "cell_type": "code",
   "execution_count": 46,
   "metadata": {},
   "outputs": [
    {
     "data": {
      "text/plain": [
       "array([[ 0.29363054,  0.34749787,  0.44325444,  0.2517696 ,  0.46125508,\n",
       "         0.29634039,  0.30885435,  0.16313058,  0.23724676, -0.00138341,\n",
       "        -0.23261371,  0.01379735],\n",
       "       [ 0.60664114, -0.230746  , -0.20491048,  0.6406539 , -0.16591724,\n",
       "         0.01626203, -0.13903343, -0.11041549, -0.12687418,  0.06418546,\n",
       "         0.03655064,  0.21318874],\n",
       "       [ 0.11200241, -0.087548  , -0.00392859,  0.10570202,  0.05181555,\n",
       "         0.21154873,  0.101801  , -0.04987934,  0.08923166, -0.23521304,\n",
       "         0.64341911, -0.65653464],\n",
       "       [ 0.00104601, -0.01595734,  0.03483879, -0.00173808,  0.03336338,\n",
       "         0.03375172,  0.01780145, -0.25206584, -0.042459  ,  0.89259956,\n",
       "        -0.07188694, -0.35877103],\n",
       "       [ 0.08189114,  0.1862877 , -0.06986598,  0.1020903 , -0.13942737,\n",
       "        -0.37729947, -0.13429183,  0.81640504,  0.12355741,  0.20996813,\n",
       "         0.11148599, -0.15861432],\n",
       "       [-0.08520722, -0.43754044, -0.19674073, -0.09669555, -0.00487   ,\n",
       "         0.37224941,  0.05770028,  0.17312055,  0.66984295,  0.19021436,\n",
       "         0.12087046,  0.28612412],\n",
       "       [ 0.06978614,  0.16931269,  0.05093972,  0.08704899, -0.03530029,\n",
       "        -0.48819479, -0.25409401, -0.40610773,  0.66197469, -0.1240377 ,\n",
       "        -0.11440685, -0.14331238]])"
      ]
     },
     "execution_count": 46,
     "metadata": {},
     "output_type": "execute_result"
    }
   ],
   "source": [
    "pca.components_"
   ]
  },
  {
   "cell_type": "code",
   "execution_count": 47,
   "metadata": {},
   "outputs": [
    {
     "data": {
      "text/html": [
       "<div>\n",
       "<style scoped>\n",
       "    .dataframe tbody tr th:only-of-type {\n",
       "        vertical-align: middle;\n",
       "    }\n",
       "\n",
       "    .dataframe tbody tr th {\n",
       "        vertical-align: top;\n",
       "    }\n",
       "\n",
       "    .dataframe thead th {\n",
       "        text-align: right;\n",
       "    }\n",
       "</style>\n",
       "<table border=\"1\" class=\"dataframe\">\n",
       "  <thead>\n",
       "    <tr style=\"text-align: right;\">\n",
       "      <th></th>\n",
       "      <th>num_reactions</th>\n",
       "      <th>num_comments</th>\n",
       "      <th>num_shares</th>\n",
       "      <th>num_likes</th>\n",
       "      <th>num_loves</th>\n",
       "      <th>num_wows</th>\n",
       "      <th>num_hahas</th>\n",
       "      <th>num_sads</th>\n",
       "      <th>num_angrys</th>\n",
       "      <th>status_link</th>\n",
       "      <th>status_photo</th>\n",
       "      <th>status_status</th>\n",
       "    </tr>\n",
       "  </thead>\n",
       "  <tbody>\n",
       "    <tr>\n",
       "      <th>0</th>\n",
       "      <td>0.293631</td>\n",
       "      <td>0.347498</td>\n",
       "      <td>0.443254</td>\n",
       "      <td>0.251770</td>\n",
       "      <td>0.461255</td>\n",
       "      <td>0.296340</td>\n",
       "      <td>0.308854</td>\n",
       "      <td>0.163131</td>\n",
       "      <td>0.237247</td>\n",
       "      <td>-0.001383</td>\n",
       "      <td>-0.232614</td>\n",
       "      <td>0.013797</td>\n",
       "    </tr>\n",
       "    <tr>\n",
       "      <th>1</th>\n",
       "      <td>0.606641</td>\n",
       "      <td>-0.230746</td>\n",
       "      <td>-0.204910</td>\n",
       "      <td>0.640654</td>\n",
       "      <td>-0.165917</td>\n",
       "      <td>0.016262</td>\n",
       "      <td>-0.139033</td>\n",
       "      <td>-0.110415</td>\n",
       "      <td>-0.126874</td>\n",
       "      <td>0.064185</td>\n",
       "      <td>0.036551</td>\n",
       "      <td>0.213189</td>\n",
       "    </tr>\n",
       "    <tr>\n",
       "      <th>2</th>\n",
       "      <td>0.112002</td>\n",
       "      <td>-0.087548</td>\n",
       "      <td>-0.003929</td>\n",
       "      <td>0.105702</td>\n",
       "      <td>0.051816</td>\n",
       "      <td>0.211549</td>\n",
       "      <td>0.101801</td>\n",
       "      <td>-0.049879</td>\n",
       "      <td>0.089232</td>\n",
       "      <td>-0.235213</td>\n",
       "      <td>0.643419</td>\n",
       "      <td>-0.656535</td>\n",
       "    </tr>\n",
       "    <tr>\n",
       "      <th>3</th>\n",
       "      <td>0.001046</td>\n",
       "      <td>-0.015957</td>\n",
       "      <td>0.034839</td>\n",
       "      <td>-0.001738</td>\n",
       "      <td>0.033363</td>\n",
       "      <td>0.033752</td>\n",
       "      <td>0.017801</td>\n",
       "      <td>-0.252066</td>\n",
       "      <td>-0.042459</td>\n",
       "      <td>0.892600</td>\n",
       "      <td>-0.071887</td>\n",
       "      <td>-0.358771</td>\n",
       "    </tr>\n",
       "    <tr>\n",
       "      <th>4</th>\n",
       "      <td>0.081891</td>\n",
       "      <td>0.186288</td>\n",
       "      <td>-0.069866</td>\n",
       "      <td>0.102090</td>\n",
       "      <td>-0.139427</td>\n",
       "      <td>-0.377299</td>\n",
       "      <td>-0.134292</td>\n",
       "      <td>0.816405</td>\n",
       "      <td>0.123557</td>\n",
       "      <td>0.209968</td>\n",
       "      <td>0.111486</td>\n",
       "      <td>-0.158614</td>\n",
       "    </tr>\n",
       "  </tbody>\n",
       "</table>\n",
       "</div>"
      ],
      "text/plain": [
       "   num_reactions  num_comments  num_shares  num_likes  num_loves  num_wows  \\\n",
       "0       0.293631      0.347498    0.443254   0.251770   0.461255  0.296340   \n",
       "1       0.606641     -0.230746   -0.204910   0.640654  -0.165917  0.016262   \n",
       "2       0.112002     -0.087548   -0.003929   0.105702   0.051816  0.211549   \n",
       "3       0.001046     -0.015957    0.034839  -0.001738   0.033363  0.033752   \n",
       "4       0.081891      0.186288   -0.069866   0.102090  -0.139427 -0.377299   \n",
       "\n",
       "   num_hahas  num_sads  num_angrys  status_link  status_photo  status_status  \n",
       "0   0.308854  0.163131    0.237247    -0.001383     -0.232614       0.013797  \n",
       "1  -0.139033 -0.110415   -0.126874     0.064185      0.036551       0.213189  \n",
       "2   0.101801 -0.049879    0.089232    -0.235213      0.643419      -0.656535  \n",
       "3   0.017801 -0.252066   -0.042459     0.892600     -0.071887      -0.358771  \n",
       "4  -0.134292  0.816405    0.123557     0.209968      0.111486      -0.158614  "
      ]
     },
     "execution_count": 47,
     "metadata": {},
     "output_type": "execute_result"
    }
   ],
   "source": [
    "df_comp = pd.DataFrame(pca.components_,columns=list(data_new))\n",
    "df_comp.head()"
   ]
  },
  {
   "cell_type": "code",
   "execution_count": 48,
   "metadata": {},
   "outputs": [
    {
     "data": {
      "text/plain": [
       "<matplotlib.axes._subplots.AxesSubplot at 0x290a871e688>"
      ]
     },
     "execution_count": 48,
     "metadata": {},
     "output_type": "execute_result"
    },
    {
     "data": {
      "image/png": "[encoded data removed]",
      "text/plain": [
       "<Figure size 864x432 with 2 Axes>"
      ]
     },
     "metadata": {
      "needs_background": "light"
     },
     "output_type": "display_data"
    }
   ],
   "source": [
    "plt.figure(figsize=(12,6))\n",
    "sns.heatmap(df_comp,cmap='plasma',annot=True)"
   ]
  },
  {
   "cell_type": "code",
   "execution_count": null,
   "metadata": {},
   "outputs": [],
   "source": []
  }
 ],
 "metadata": {
  "kernelspec": {
   "display_name": "Python 3",
   "language": "python",
   "name": "python3"
  },
  "language_info": {
   "codemirror_mode": {
    "name": "ipython",
    "version": 3
   },
   "file_extension": ".py",
   "mimetype": "text/x-python",
   "name": "python",
   "nbconvert_exporter": "python",
   "pygments_lexer": "ipython3",
   "version": "3.7.6"
  }
 },
 "nbformat": 4,
 "nbformat_minor": 4
}
